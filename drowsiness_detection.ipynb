{
 "cells": [
  {
   "cell_type": "code",
   "execution_count": 1,
   "id": "b51ba7ce",
   "metadata": {
    "ExecuteTime": {
     "end_time": "2023-07-08T17:00:32.229070Z",
     "start_time": "2023-07-08T17:00:15.991676Z"
    }
   },
   "outputs": [],
   "source": [
    "import tensorflow as tf\n",
    "import os\n",
    "import numpy as np\n",
    "import pandas as pd\n",
    "from tensorflow.keras import layers\n",
    "from tensorflow import keras\n",
    "import matplotlib.pyplot as plt\n",
    "import tqdm\n",
    "import shutil\n",
    "import cv2"
   ]
  },
  {
   "cell_type": "code",
   "execution_count": 2,
   "id": "8b08fb89",
   "metadata": {
    "ExecuteTime": {
     "end_time": "2023-07-08T17:00:32.372060Z",
     "start_time": "2023-07-08T17:00:32.348064Z"
    }
   },
   "outputs": [],
   "source": [
    "file_path = 'mrlEyes_2018_01'"
   ]
  },
  {
   "cell_type": "markdown",
   "id": "fec1ad38",
   "metadata": {},
   "source": [
    "# Data loading and preprocessing"
   ]
  },
  {
   "cell_type": "code",
   "execution_count": 20,
   "id": "d8c6941e",
   "metadata": {
    "ExecuteTime": {
     "end_time": "2023-07-08T17:10:26.456804Z",
     "start_time": "2023-07-08T17:10:23.954715Z"
    }
   },
   "outputs": [
    {
     "name": "stdout",
     "output_type": "stream",
     "text": [
      "s0001\n"
     ]
    },
    {
     "name": "stderr",
     "output_type": "stream",
     "text": [
      "100%|██████████████████████████████████████████████████████████████████████████| 3242/3242 [00:00<00:00, 180095.54it/s]\n"
     ]
    },
    {
     "name": "stdout",
     "output_type": "stream",
     "text": [
      "s0002\n"
     ]
    },
    {
     "name": "stderr",
     "output_type": "stream",
     "text": [
      "100%|███████████████████████████████████████████████████████████████████████████| 1114/1114 [00:00<00:00, 85663.95it/s]\n"
     ]
    },
    {
     "name": "stdout",
     "output_type": "stream",
     "text": [
      "s0003\n"
     ]
    },
    {
     "name": "stderr",
     "output_type": "stream",
     "text": [
      "100%|█████████████████████████████████████████████████████████████████████████████| 679/679 [00:00<00:00, 84853.33it/s]\n"
     ]
    },
    {
     "name": "stdout",
     "output_type": "stream",
     "text": [
      "s0004\n"
     ]
    },
    {
     "name": "stderr",
     "output_type": "stream",
     "text": [
      "100%|███████████████████████████████████████████████████████████████████████████| 1069/1069 [00:00<00:00, 66819.33it/s]\n"
     ]
    },
    {
     "name": "stdout",
     "output_type": "stream",
     "text": [
      "s0005\n"
     ]
    },
    {
     "name": "stderr",
     "output_type": "stream",
     "text": [
      "100%|█████████████████████████████████████████████████████████████████████████████| 736/736 [00:00<00:00, 52561.81it/s]\n"
     ]
    },
    {
     "name": "stdout",
     "output_type": "stream",
     "text": [
      "s0006\n"
     ]
    },
    {
     "name": "stderr",
     "output_type": "stream",
     "text": [
      "100%|███████████████████████████████████████████████████████████████████████████| 1012/1012 [00:00<00:00, 72292.19it/s]\n"
     ]
    },
    {
     "name": "stdout",
     "output_type": "stream",
     "text": [
      "s0007\n"
     ]
    },
    {
     "name": "stderr",
     "output_type": "stream",
     "text": [
      "100%|████████████████████████████████████████████████████████████████████████████| 624/624 [00:00<00:00, 155992.71it/s]\n"
     ]
    },
    {
     "name": "stdout",
     "output_type": "stream",
     "text": [
      "s0008\n"
     ]
    },
    {
     "name": "stderr",
     "output_type": "stream",
     "text": [
      "100%|████████████████████████████████████████████████████████████████████████████| 832/832 [00:00<00:00, 118914.36it/s]\n"
     ]
    },
    {
     "name": "stdout",
     "output_type": "stream",
     "text": [
      "s0009\n"
     ]
    },
    {
     "name": "stderr",
     "output_type": "stream",
     "text": [
      "100%|█████████████████████████████████████████████████████████████████████████████| 387/387 [00:00<00:00, 96860.94it/s]\n"
     ]
    },
    {
     "name": "stdout",
     "output_type": "stream",
     "text": [
      "s0010\n"
     ]
    },
    {
     "name": "stderr",
     "output_type": "stream",
     "text": [
      "100%|█████████████████████████████████████████████████████████████████████████████| 399/399 [00:00<00:00, 56947.88it/s]\n"
     ]
    },
    {
     "name": "stdout",
     "output_type": "stream",
     "text": [
      "s0011\n"
     ]
    },
    {
     "name": "stderr",
     "output_type": "stream",
     "text": [
      "100%|██████████████████████████████████████████████████████████████████████████| 1648/1648 [00:00<00:00, 110544.12it/s]\n"
     ]
    },
    {
     "name": "stdout",
     "output_type": "stream",
     "text": [
      "s0012\n"
     ]
    },
    {
     "name": "stderr",
     "output_type": "stream",
     "text": [
      "100%|██████████████████████████████████████████████████████████████████████████| 8728/8728 [00:00<00:00, 153119.81it/s]"
     ]
    },
    {
     "name": "stdout",
     "output_type": "stream",
     "text": [
      "s0013\n"
     ]
    },
    {
     "name": "stderr",
     "output_type": "stream",
     "text": [
      "\n",
      "100%|██████████████████████████████████████████████████████████████████████████| 3605/3605 [00:00<00:00, 124312.20it/s]\n"
     ]
    },
    {
     "name": "stdout",
     "output_type": "stream",
     "text": [
      "s0014\n"
     ]
    },
    {
     "name": "stderr",
     "output_type": "stream",
     "text": [
      "100%|██████████████████████████████████████████████████████████████████████████| 8884/8884 [00:00<00:00, 115376.05it/s]\n"
     ]
    },
    {
     "name": "stdout",
     "output_type": "stream",
     "text": [
      "s0015\n"
     ]
    },
    {
     "name": "stderr",
     "output_type": "stream",
     "text": [
      "100%|███████████████████████████████████████████████████████████████████████████| 1132/1132 [00:00<00:00, 94334.55it/s]\n"
     ]
    },
    {
     "name": "stdout",
     "output_type": "stream",
     "text": [
      "s0016\n"
     ]
    },
    {
     "name": "stderr",
     "output_type": "stream",
     "text": [
      "100%|██████████████████████████████████████████████████████████████████████████| 1889/1889 [00:00<00:00, 236121.00it/s]\n"
     ]
    },
    {
     "name": "stdout",
     "output_type": "stream",
     "text": [
      "s0017\n"
     ]
    },
    {
     "name": "stderr",
     "output_type": "stream",
     "text": [
      "100%|██████████████████████████████████████████████████████████████████████████| 1648/1648 [00:00<00:00, 137318.73it/s]\n"
     ]
    },
    {
     "name": "stdout",
     "output_type": "stream",
     "text": [
      "s0018\n"
     ]
    },
    {
     "name": "stderr",
     "output_type": "stream",
     "text": [
      "100%|██████████████████████████████████████████████████████████████████████████| 4410/4410 [00:00<00:00, 104990.92it/s]"
     ]
    },
    {
     "name": "stdout",
     "output_type": "stream",
     "text": [
      "s0019\n"
     ]
    },
    {
     "name": "stderr",
     "output_type": "stream",
     "text": [
      "\n",
      "100%|██████████████████████████████████████████████████████████████████████████| 6175/6175 [00:00<00:00, 143615.06it/s]\n"
     ]
    },
    {
     "name": "stdout",
     "output_type": "stream",
     "text": [
      "s0020\n"
     ]
    },
    {
     "name": "stderr",
     "output_type": "stream",
     "text": [
      "100%|████████████████████████████████████████████████████████████████████████████| 704/704 [00:00<00:00, 140924.45it/s]\n"
     ]
    },
    {
     "name": "stdout",
     "output_type": "stream",
     "text": [
      "s0021\n"
     ]
    },
    {
     "name": "stderr",
     "output_type": "stream",
     "text": [
      "100%|████████████████████████████████████████████████████████████████████████████| 987/987 [00:00<00:00, 141087.11it/s]\n"
     ]
    },
    {
     "name": "stdout",
     "output_type": "stream",
     "text": [
      "s0022\n"
     ]
    },
    {
     "name": "stderr",
     "output_type": "stream",
     "text": [
      "100%|█████████████████████████████████████████████████████████████████████████████| 382/382 [00:00<00:00, 76467.53it/s]\n"
     ]
    },
    {
     "name": "stdout",
     "output_type": "stream",
     "text": [
      "s0023\n"
     ]
    },
    {
     "name": "stderr",
     "output_type": "stream",
     "text": [
      "100%|████████████████████████████████████████████████████████████████████████████| 522/522 [00:00<00:00, 173957.31it/s]\n"
     ]
    },
    {
     "name": "stdout",
     "output_type": "stream",
     "text": [
      "s0024\n"
     ]
    },
    {
     "name": "stderr",
     "output_type": "stream",
     "text": [
      "100%|████████████████████████████████████████████████████████████████████████████| 752/752 [00:00<00:00, 150281.90it/s]\n"
     ]
    },
    {
     "name": "stdout",
     "output_type": "stream",
     "text": [
      "s0025\n"
     ]
    },
    {
     "name": "stderr",
     "output_type": "stream",
     "text": [
      "100%|██████████████████████████████████████████████████████████████████████████| 1502/1502 [00:00<00:00, 100134.22it/s]\n"
     ]
    },
    {
     "name": "stdout",
     "output_type": "stream",
     "text": [
      "s0026\n"
     ]
    },
    {
     "name": "stderr",
     "output_type": "stream",
     "text": [
      "100%|██████████████████████████████████████████████████████████████████████████| 1246/1246 [00:00<00:00, 113285.85it/s]\n"
     ]
    },
    {
     "name": "stdout",
     "output_type": "stream",
     "text": [
      "s0027\n"
     ]
    },
    {
     "name": "stderr",
     "output_type": "stream",
     "text": [
      "100%|█████████████████████████████████████████████████████████████████████████████| 665/665 [00:00<00:00, 83188.05it/s]"
     ]
    },
    {
     "name": "stdout",
     "output_type": "stream",
     "text": [
      "s0028"
     ]
    },
    {
     "name": "stderr",
     "output_type": "stream",
     "text": [
      "\n"
     ]
    },
    {
     "name": "stdout",
     "output_type": "stream",
     "text": [
      "\n"
     ]
    },
    {
     "name": "stderr",
     "output_type": "stream",
     "text": [
      "100%|████████████████████████████████████████████████████████████████████████████| 736/736 [00:00<00:00, 148036.63it/s]\n"
     ]
    },
    {
     "name": "stdout",
     "output_type": "stream",
     "text": [
      "s0029\n"
     ]
    },
    {
     "name": "stderr",
     "output_type": "stream",
     "text": [
      "100%|██████████████████████████████████████████████████████████████████████████| 1393/1393 [00:00<00:00, 154940.88it/s]\n"
     ]
    },
    {
     "name": "stdout",
     "output_type": "stream",
     "text": [
      "s0030\n"
     ]
    },
    {
     "name": "stderr",
     "output_type": "stream",
     "text": [
      "100%|██████████████████████████████████████████████████████████████████████████| 1384/1384 [00:00<00:00, 172924.92it/s]\n"
     ]
    },
    {
     "name": "stdout",
     "output_type": "stream",
     "text": [
      "s0031\n"
     ]
    },
    {
     "name": "stderr",
     "output_type": "stream",
     "text": [
      "100%|██████████████████████████████████████████████████████████████████████████| 1738/1738 [00:00<00:00, 144835.20it/s]\n"
     ]
    },
    {
     "name": "stdout",
     "output_type": "stream",
     "text": [
      "s0032\n"
     ]
    },
    {
     "name": "stderr",
     "output_type": "stream",
     "text": [
      "100%|██████████████████████████████████████████████████████████████████████████| 6162/6162 [00:00<00:00, 176135.90it/s]\n"
     ]
    },
    {
     "name": "stdout",
     "output_type": "stream",
     "text": [
      "s0033\n"
     ]
    },
    {
     "name": "stderr",
     "output_type": "stream",
     "text": [
      "100%|█████████████████████████████████████████████████████████████████████████████| 681/681 [00:00<00:00, 97362.41it/s]\n"
     ]
    },
    {
     "name": "stdout",
     "output_type": "stream",
     "text": [
      "s0034\n"
     ]
    },
    {
     "name": "stderr",
     "output_type": "stream",
     "text": [
      "100%|█████████████████████████████████████████████████████████████████████████████| 739/739 [00:00<00:00, 73863.09it/s]\n"
     ]
    },
    {
     "name": "stdout",
     "output_type": "stream",
     "text": [
      "s0035\n"
     ]
    },
    {
     "name": "stderr",
     "output_type": "stream",
     "text": [
      "100%|█████████████████████████████████████████████████████████████████████████████| 642/642 [00:00<00:00, 91902.50it/s]\n"
     ]
    },
    {
     "name": "stdout",
     "output_type": "stream",
     "text": [
      "s0036\n"
     ]
    },
    {
     "name": "stderr",
     "output_type": "stream",
     "text": [
      "100%|██████████████████████████████████████████████████████████████████████████| 6193/6193 [00:00<00:00, 119102.06it/s]\n"
     ]
    },
    {
     "name": "stdout",
     "output_type": "stream",
     "text": [
      "s0037\n"
     ]
    },
    {
     "name": "stderr",
     "output_type": "stream",
     "text": [
      "100%|████████████████████████████████████████████████████████████████████████| 10257/10257 [00:00<00:00, 277245.24it/s]\n"
     ]
    }
   ],
   "source": [
    "data = []\n",
    "labels = []\n",
    "\n",
    "for folder in os.listdir(file_path):\n",
    "    print(folder)\n",
    "    if '.' in folder:\n",
    "        pass\n",
    "    else:\n",
    "        for images in tqdm.tqdm(os.listdir(f'{file_path}/{folder}')):\n",
    "\n",
    "            state = images.split('_')[4]\n",
    "            if int(state) == 1:\n",
    "                data.append(f'{file_path}/{folder}/{images}')\n",
    "                labels.append(state)\n",
    "            elif int(state) == 0:\n",
    "                data.append(f'{file_path}/{folder}/{images}')\n",
    "                labels.append(state)\n"
   ]
  },
  {
   "cell_type": "code",
   "execution_count": 21,
   "id": "780c3e2c",
   "metadata": {
    "ExecuteTime": {
     "end_time": "2023-07-08T17:10:48.141587Z",
     "start_time": "2023-07-08T17:10:47.308786Z"
    }
   },
   "outputs": [],
   "source": [
    "train_data = tf.data.Dataset.from_tensor_slices((data, labels))"
   ]
  },
  {
   "cell_type": "code",
   "execution_count": 22,
   "id": "53403610",
   "metadata": {
    "ExecuteTime": {
     "end_time": "2023-07-08T17:10:49.349738Z",
     "start_time": "2023-07-08T17:10:49.304736Z"
    }
   },
   "outputs": [
    {
     "name": "stdout",
     "output_type": "stream",
     "text": [
      "(<tf.Tensor: shape=(), dtype=string, numpy=b'mrlEyes_2018_01/s0001/s0001_00001_0_0_0_0_0_01.png'>, <tf.Tensor: shape=(), dtype=string, numpy=b'0'>)\n",
      "(<tf.Tensor: shape=(), dtype=string, numpy=b'mrlEyes_2018_01/s0001/s0001_00002_0_0_0_0_0_01.png'>, <tf.Tensor: shape=(), dtype=string, numpy=b'0'>)\n",
      "(<tf.Tensor: shape=(), dtype=string, numpy=b'mrlEyes_2018_01/s0001/s0001_00003_0_0_0_0_0_01.png'>, <tf.Tensor: shape=(), dtype=string, numpy=b'0'>)\n",
      "(<tf.Tensor: shape=(), dtype=string, numpy=b'mrlEyes_2018_01/s0001/s0001_00004_0_0_0_0_0_01.png'>, <tf.Tensor: shape=(), dtype=string, numpy=b'0'>)\n"
     ]
    }
   ],
   "source": [
    "for i in train_data.take(4):\n",
    "    print(i)"
   ]
  },
  {
   "cell_type": "code",
   "execution_count": 23,
   "id": "e52e4cfe",
   "metadata": {
    "ExecuteTime": {
     "end_time": "2023-07-08T17:10:54.481815Z",
     "start_time": "2023-07-08T17:10:54.453795Z"
    }
   },
   "outputs": [],
   "source": [
    "def load_data(image, label):\n",
    "    image = tf.io.read_file(image)\n",
    "    image = tf.io.decode_jpeg(image)\n",
    "    image = tf.image.resize(image, (96, 96))\n",
    "    image = tf.reshape(image, (96, 96, 1))\n",
    "    image = image / 255.0\n",
    "    return image, int(label)"
   ]
  },
  {
   "cell_type": "code",
   "execution_count": 34,
   "id": "bc724a00",
   "metadata": {
    "ExecuteTime": {
     "end_time": "2023-07-08T17:18:26.417101Z",
     "start_time": "2023-07-08T17:18:26.346101Z"
    }
   },
   "outputs": [],
   "source": [
    "train = train_data.map(load_data)\n",
    "\n",
    "split = len(train_data) * 0.20\n",
    "\n",
    "val_ds = train.take(int(split)).batch(32)\n",
    "train_ds = train.skip(int(split)).shuffle(int(split)).batch(32).prefetch(buffer_size=tf.data.AUTOTUNE)"
   ]
  },
  {
   "cell_type": "code",
   "execution_count": 36,
   "id": "ab28971b",
   "metadata": {
    "ExecuteTime": {
     "end_time": "2023-07-08T17:22:06.646646Z",
     "start_time": "2023-07-08T17:21:32.717219Z"
    }
   },
   "outputs": [
    {
     "name": "stdout",
     "output_type": "stream",
     "text": [
      "(32, 96, 96, 1) (32,)\n"
     ]
    },
    {
     "data": {
      "image/png": "[encoded data removed]",
      "text/plain": [
       "<Figure size 640x480 with 4 Axes>"
      ]
     },
     "metadata": {},
     "output_type": "display_data"
    }
   ],
   "source": [
    "for image, label in train_ds.take(1):\n",
    "    print(image.shape, label.shape)\n",
    "    for i in range(4):\n",
    "        plt.subplot(2, 2, i+1)\n",
    "        plt.imshow(image[i][:, :, 0], cmap='gray')\n",
    "        plt.axis('off')\n",
    "        plt.title(label[i].numpy())"
   ]
  },
  {
   "cell_type": "markdown",
   "id": "4423d2ec",
   "metadata": {},
   "source": [
    "# Build model"
   ]
  },
  {
   "cell_type": "code",
   "execution_count": 37,
   "id": "d20a6926",
   "metadata": {
    "ExecuteTime": {
     "end_time": "2023-07-08T17:23:40.615007Z",
     "start_time": "2023-07-08T17:23:40.085224Z"
    }
   },
   "outputs": [],
   "source": [
    "inputs = keras.Input(shape=(96, 96, 1))\n",
    "#model = mobilenet_updated(inputs)\n",
    "model = layers.Conv2D(256, (3, 3), (2, 2), activation='relu')(inputs)\n",
    "model = layers.MaxPooling2D()(model)\n",
    "model = layers.Conv2D(128, (3, 3), (2, 2), activation='relu')(model)\n",
    "model = layers.MaxPooling2D()(model)\n",
    "model = layers.Flatten()(model)\n",
    "model = layers.Dense(2048, activation='relu')(model)\n",
    "model = layers.Dropout(0.5)(model)\n",
    "model = layers.Dense(64, activation='relu')(model)\n",
    "model = layers.Dropout(0.3)(model)\n",
    "model = layers.Dense(1, activation='sigmoid')(model)\n",
    "classifier = keras.Model(inputs, model)"
   ]
  },
  {
   "cell_type": "code",
   "execution_count": 38,
   "id": "d3aeefe8",
   "metadata": {
    "ExecuteTime": {
     "end_time": "2023-07-08T17:23:41.090453Z",
     "start_time": "2023-07-08T17:23:40.894004Z"
    }
   },
   "outputs": [
    {
     "name": "stdout",
     "output_type": "stream",
     "text": [
      "Model: \"model\"\n",
      "_________________________________________________________________\n",
      " Layer (type)                Output Shape              Param #   \n",
      "=================================================================\n",
      " input_1 (InputLayer)        [(None, 96, 96, 1)]       0         \n",
      "                                                                 \n",
      " conv2d (Conv2D)             (None, 47, 47, 256)       2560      \n",
      "                                                                 \n",
      " max_pooling2d (MaxPooling2D  (None, 23, 23, 256)      0         \n",
      " )                                                               \n",
      "                                                                 \n",
      " conv2d_1 (Conv2D)           (None, 11, 11, 128)       295040    \n",
      "                                                                 \n",
      " max_pooling2d_1 (MaxPooling  (None, 5, 5, 128)        0         \n",
      " 2D)                                                             \n",
      "                                                                 \n",
      " flatten (Flatten)           (None, 3200)              0         \n",
      "                                                                 \n",
      " dense (Dense)               (None, 2048)              6555648   \n",
      "                                                                 \n",
      " dropout (Dropout)           (None, 2048)              0         \n",
      "                                                                 \n",
      " dense_1 (Dense)             (None, 64)                131136    \n",
      "                                                                 \n",
      " dropout_1 (Dropout)         (None, 64)                0         \n",
      "                                                                 \n",
      " dense_2 (Dense)             (None, 1)                 65        \n",
      "                                                                 \n",
      "=================================================================\n",
      "Total params: 6,984,449\n",
      "Trainable params: 6,984,449\n",
      "Non-trainable params: 0\n",
      "_________________________________________________________________\n"
     ]
    }
   ],
   "source": [
    "classifier.summary()"
   ]
  },
  {
   "cell_type": "code",
   "execution_count": 39,
   "id": "aab5c90a",
   "metadata": {
    "ExecuteTime": {
     "end_time": "2023-07-08T17:23:41.940100Z",
     "start_time": "2023-07-08T17:23:41.884115Z"
    }
   },
   "outputs": [],
   "source": [
    "classifier.compile(loss=keras.losses.BinaryCrossentropy(),\n",
    "                  optimizer=keras.optimizers.Adam(learning_rate=0.0001),\n",
    "                  metrics=['accuracy'])"
   ]
  },
  {
   "cell_type": "code",
   "execution_count": 40,
   "id": "ae922c4f",
   "metadata": {
    "ExecuteTime": {
     "end_time": "2023-07-08T17:23:42.991252Z",
     "start_time": "2023-07-08T17:23:42.972228Z"
    }
   },
   "outputs": [],
   "source": [
    "callbacks = keras.callbacks.TensorBoard(log_dir='logs')"
   ]
  },
  {
   "cell_type": "code",
   "execution_count": null,
   "id": "76175563",
   "metadata": {
    "ExecuteTime": {
     "start_time": "2023-07-08T17:23:43.841Z"
    }
   },
   "outputs": [
    {
     "name": "stdout",
     "output_type": "stream",
     "text": [
      "Epoch 1/20\n",
      "2123/2123 [==============================] - 1407s 646ms/step - loss: 0.2131 - accuracy: 0.9145 - val_loss: 0.2633 - val_accuracy: 0.9038\n",
      "Epoch 2/20\n"
     ]
    }
   ],
   "source": [
    "classifier.fit(train_ds, epochs=20, validation_data=val_ds, callbacks=[callbacks])"
   ]
  },
  {
   "cell_type": "code",
   "execution_count": 23,
   "id": "c7d45c4b",
   "metadata": {
    "ExecuteTime": {
     "end_time": "2023-07-04T15:14:27.859793Z",
     "start_time": "2023-07-04T15:14:15.135269Z"
    }
   },
   "outputs": [
    {
     "name": "stderr",
     "output_type": "stream",
     "text": [
      "WARNING:absl:Found untraced functions such as _jit_compiled_convolution_op, _jit_compiled_convolution_op while saving (showing 2 of 2). These functions will not be directly callable after loading.\n"
     ]
    },
    {
     "name": "stdout",
     "output_type": "stream",
     "text": [
      "INFO:tensorflow:Assets written to: drowsiness_model\\assets\n"
     ]
    },
    {
     "name": "stderr",
     "output_type": "stream",
     "text": [
      "INFO:tensorflow:Assets written to: drowsiness_model\\assets\n"
     ]
    }
   ],
   "source": [
    "classifier.save('drowsiness_model.h5')"
   ]
  },
  {
   "cell_type": "code",
   "execution_count": null,
   "id": "29d4b832",
   "metadata": {},
   "outputs": [],
   "source": [
    "classifier.load_weights('drowsiness_model.h5')"
   ]
  },
  {
   "cell_type": "markdown",
   "id": "db657081",
   "metadata": {},
   "source": [
    "# MAKING PREDICTIONS"
   ]
  },
  {
   "cell_type": "code",
   "execution_count": 18,
   "id": "f9a26824",
   "metadata": {
    "ExecuteTime": {
     "end_time": "2023-07-08T15:56:14.367639Z",
     "start_time": "2023-07-08T15:56:13.369022Z"
    }
   },
   "outputs": [],
   "source": [
    "eye_cascade = cv2.CascadeClassifier(cv2.data.haarcascades + 'haarcascade_eye.xml')"
   ]
  },
  {
   "cell_type": "code",
   "execution_count": 21,
   "id": "59449e4d",
   "metadata": {
    "ExecuteTime": {
     "end_time": "2023-07-08T15:59:51.375649Z",
     "start_time": "2023-07-08T15:57:40.470456Z"
    }
   },
   "outputs": [],
   "source": [
    "cap = cv2.VideoCapture(0)\n",
    "\n",
    "while True:\n",
    "    ret, frame = cap.read()\n",
    "    \n",
    "    gray = cv2.cvtColor(frame, cv2.COLOR_RGB2GRAY)\n",
    "    eyes = eye_cascade.detectMultiScale(gray, scaleFactor=1.2, minNeighbors=3)\n",
    "    for (x, y, w, h) in eyes:\n",
    "        eye = gray[y:y+h, x:x+w]\n",
    "        eye = tf.expand_dims(eye, axis=-1)\n",
    "        eye = tf.image.resize(eye, (96, 96))\n",
    "        eye = tf.reshape(eye, (96, 96, 1))\n",
    "        prediction = classifier(eye[tf.newaxis])\n",
    "        if prediction[0] > 0.5:\n",
    "            cv2.putText(frame, 'Awake', (18, 20), cv2.FONT_HERSHEY_COMPLEX, 2, (255, 0, 0), thickness=2)\n",
    "            \n",
    "        else:\n",
    "            cv2.putText(frame, 'Drowsy', (18, 20), cv2.FONT_HERSHEY_COMPLEX, 2, (255, 0, 0), thickness=2)\n",
    "            \n",
    "        cv2.rectangle(frame, pt1=(x, y), pt2=(x+w, y+h), color=(225, 0, 0),thickness=2)\n",
    "        \n",
    "    \n",
    "    cv2.imshow('frame', frame)\n",
    "    \n",
    "    if cv2.waitKey(100) & 0xFF == ord('q'):\n",
    "        break\n",
    "cap.release()\n",
    "cv2.destroyAllWindows()"
   ]
  },
  {
   "cell_type": "code",
   "execution_count": null,
   "id": "d5ab187a",
   "metadata": {},
   "outputs": [],
   "source": []
  }
 ],
 "metadata": {
  "kernelspec": {
   "display_name": "Python 3 (ipykernel)",
   "language": "python",
   "name": "python3"
  },
  "language_info": {
   "codemirror_mode": {
    "name": "ipython",
    "version": 3
   },
   "file_extension": ".py",
   "mimetype": "text/x-python",
   "name": "python",
   "nbconvert_exporter": "python",
   "pygments_lexer": "ipython3",
   "version": "3.9.0"
  },
  "varInspector": {
   "cols": {
    "lenName": 16,
    "lenType": 16,
    "lenVar": 40
   },
   "kernels_config": {
    "python": {
     "delete_cmd_postfix": "",
     "delete_cmd_prefix": "del ",
     "library": "var_list.py",
     "varRefreshCmd": "print(var_dic_list())"
    },
    "r": {
     "delete_cmd_postfix": ") ",
     "delete_cmd_prefix": "rm(",
     "library": "var_list.r",
     "varRefreshCmd": "cat(var_dic_list()) "
    }
   },
   "types_to_exclude": [
    "module",
    "function",
    "builtin_function_or_method",
    "instance",
    "_Feature"
   ],
   "window_display": false
  }
 },
 "nbformat": 4,
 "nbformat_minor": 5
}
